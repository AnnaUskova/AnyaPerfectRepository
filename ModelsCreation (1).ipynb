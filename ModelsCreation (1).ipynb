{
 "cells": [
  {
   "cell_type": "markdown",
   "metadata": {},
   "source": [
    "## Lab 1.3 - Predicting Real Estate Data in St. Petersburg\n",
    "We have data from Yandex.Realty classified https://realty.yandex.ru containing real estate listings for apartments in St. Petersburg and Leningrad Oblast from 2016 till the middle of August 2018. In this Lab you'll learn how to apply machine learning algorithms to solve business problems. Accurate price prediction can help to find fraudsters automatically and help Yandex.Realty users to make better decisions when buying and selling real estate.\n",
    "\n",
    "Using python with machine learning algotithms is the #1 option for prototyping solutions among data scientists today. We'll take a look at it in this lab.\n",
    "\n",
    "### Main objectives\n",
    "After successful completion of the lab work students will be able to:\n",
    "-\tApply machine learning for solving price prediction problem\n",
    "-   Calculate metrics which can help us find out whether our machine learning model is ready for production\n",
    "\n",
    "### Tasks\n",
    "-\tEncode dataset\n",
    "-\tSplit dataset to train and validation datasets\n",
    "-\tApply decision tree algorithm to build ML (machine learning) model for price predictions\n",
    "-   Calculate metrics\n",
    "-   Try other algorithms and factors to get a better solution \n"
   ]
  },
  {
   "cell_type": "markdown",
   "metadata": {},
   "source": [
    "### 1. Load data with real estate prices"
   ]
  },
  {
   "cell_type": "code",
   "execution_count": 1,
   "metadata": {
    "tags": []
   },
   "outputs": [],
   "source": [
    "# let's import pandas library and set options to be able to view data right in the browser\n",
    "import pandas as pd\n",
    "import numpy as np\n",
    "import seaborn as sns\n",
    "import scipy.stats as stats\n",
    "import matplotlib.style as style\n",
    "from matplotlib import pyplot as plt\n",
    "pd.set_option('display.max_columns', 500)\n",
    "pd.set_option('display.width', 1000)\n",
    "pd.set_option('display.max_colwidth', 1000)\n",
    "style.use('fivethirtyeight')\n"
   ]
  },
  {
   "cell_type": "markdown",
   "metadata": {},
   "source": [
    "**Data preparation**"
   ]
  },
  {
   "cell_type": "code",
   "execution_count": 2,
   "metadata": {
    "tags": []
   },
   "outputs": [],
   "source": [
    "rent_df_cleaned = pd.read_csv('cleaned_dataset.csv')"
   ]
  },
  {
   "cell_type": "code",
   "execution_count": 3,
   "metadata": {
    "tags": []
   },
   "outputs": [
    {
     "data": {
      "text/html": [
       "<div>\n",
       "<style scoped>\n",
       "    .dataframe tbody tr th:only-of-type {\n",
       "        vertical-align: middle;\n",
       "    }\n",
       "\n",
       "    .dataframe tbody tr th {\n",
       "        vertical-align: top;\n",
       "    }\n",
       "\n",
       "    .dataframe thead th {\n",
       "        text-align: right;\n",
       "    }\n",
       "</style>\n",
       "<table border=\"1\" class=\"dataframe\">\n",
       "  <thead>\n",
       "    <tr style=\"text-align: right;\">\n",
       "      <th></th>\n",
       "      <th>first_day_exposition</th>\n",
       "      <th>last_day_exposition</th>\n",
       "      <th>last_price</th>\n",
       "      <th>floor</th>\n",
       "      <th>open_plan</th>\n",
       "      <th>rooms</th>\n",
       "      <th>studio</th>\n",
       "      <th>area</th>\n",
       "      <th>kitchen_area</th>\n",
       "      <th>living_area</th>\n",
       "      <th>renovation</th>\n",
       "      <th>building_id</th>\n",
       "      <th>last_price_log</th>\n",
       "    </tr>\n",
       "  </thead>\n",
       "  <tbody>\n",
       "    <tr>\n",
       "      <th>0</th>\n",
       "      <td>2015-01-24T00:00:00+03:00</td>\n",
       "      <td>2016-01-19T00:00:00+03:00</td>\n",
       "      <td>20000.0</td>\n",
       "      <td>7</td>\n",
       "      <td>0</td>\n",
       "      <td>1</td>\n",
       "      <td>0</td>\n",
       "      <td>28.0</td>\n",
       "      <td>8.0</td>\n",
       "      <td>20.0</td>\n",
       "      <td>3.0</td>\n",
       "      <td>6719200042030752141</td>\n",
       "      <td>9.903488</td>\n",
       "    </tr>\n",
       "    <tr>\n",
       "      <th>1</th>\n",
       "      <td>2015-11-17T00:00:00+03:00</td>\n",
       "      <td>2016-03-04T00:00:00+03:00</td>\n",
       "      <td>24000.0</td>\n",
       "      <td>4</td>\n",
       "      <td>0</td>\n",
       "      <td>2</td>\n",
       "      <td>0</td>\n",
       "      <td>59.0</td>\n",
       "      <td>10.0</td>\n",
       "      <td>35.0</td>\n",
       "      <td>3.0</td>\n",
       "      <td>6719200042030752141</td>\n",
       "      <td>10.085809</td>\n",
       "    </tr>\n",
       "    <tr>\n",
       "      <th>2</th>\n",
       "      <td>2015-11-17T00:00:00+03:00</td>\n",
       "      <td>2016-04-24T00:00:00+03:00</td>\n",
       "      <td>18000.0</td>\n",
       "      <td>6</td>\n",
       "      <td>0</td>\n",
       "      <td>1</td>\n",
       "      <td>0</td>\n",
       "      <td>36.0</td>\n",
       "      <td>9.0</td>\n",
       "      <td>17.0</td>\n",
       "      <td>3.0</td>\n",
       "      <td>6719200042030752141</td>\n",
       "      <td>9.798127</td>\n",
       "    </tr>\n",
       "    <tr>\n",
       "      <th>3</th>\n",
       "      <td>2016-02-04T00:00:00+03:00</td>\n",
       "      <td>2016-02-28T00:00:00+03:00</td>\n",
       "      <td>18000.0</td>\n",
       "      <td>8</td>\n",
       "      <td>0</td>\n",
       "      <td>1</td>\n",
       "      <td>0</td>\n",
       "      <td>39.0</td>\n",
       "      <td>10.0</td>\n",
       "      <td>18.0</td>\n",
       "      <td>0.0</td>\n",
       "      <td>6719200042030752141</td>\n",
       "      <td>9.798127</td>\n",
       "    </tr>\n",
       "    <tr>\n",
       "      <th>4</th>\n",
       "      <td>2016-02-28T00:00:00+03:00</td>\n",
       "      <td>2016-04-02T00:00:00+03:00</td>\n",
       "      <td>19000.0</td>\n",
       "      <td>3</td>\n",
       "      <td>0</td>\n",
       "      <td>1</td>\n",
       "      <td>0</td>\n",
       "      <td>36.0</td>\n",
       "      <td>8.0</td>\n",
       "      <td>18.0</td>\n",
       "      <td>11.0</td>\n",
       "      <td>6719200042030752141</td>\n",
       "      <td>9.852194</td>\n",
       "    </tr>\n",
       "  </tbody>\n",
       "</table>\n",
       "</div>"
      ],
      "text/plain": [
       "        first_day_exposition        last_day_exposition  last_price  floor  open_plan  rooms  studio  area  kitchen_area  living_area  renovation          building_id  last_price_log\n",
       "0  2015-01-24T00:00:00+03:00  2016-01-19T00:00:00+03:00     20000.0      7          0      1       0  28.0           8.0         20.0         3.0  6719200042030752141        9.903488\n",
       "1  2015-11-17T00:00:00+03:00  2016-03-04T00:00:00+03:00     24000.0      4          0      2       0  59.0          10.0         35.0         3.0  6719200042030752141       10.085809\n",
       "2  2015-11-17T00:00:00+03:00  2016-04-24T00:00:00+03:00     18000.0      6          0      1       0  36.0           9.0         17.0         3.0  6719200042030752141        9.798127\n",
       "3  2016-02-04T00:00:00+03:00  2016-02-28T00:00:00+03:00     18000.0      8          0      1       0  39.0          10.0         18.0         0.0  6719200042030752141        9.798127\n",
       "4  2016-02-28T00:00:00+03:00  2016-04-02T00:00:00+03:00     19000.0      3          0      1       0  36.0           8.0         18.0        11.0  6719200042030752141        9.852194"
      ]
     },
     "execution_count": 3,
     "metadata": {},
     "output_type": "execute_result"
    }
   ],
   "source": [
    "rent_df_cleaned.head()"
   ]
  },
  {
   "cell_type": "code",
   "execution_count": 4,
   "metadata": {
    "tags": []
   },
   "outputs": [
    {
     "data": {
      "text/html": [
       "<div>\n",
       "<style scoped>\n",
       "    .dataframe tbody tr th:only-of-type {\n",
       "        vertical-align: middle;\n",
       "    }\n",
       "\n",
       "    .dataframe tbody tr th {\n",
       "        vertical-align: top;\n",
       "    }\n",
       "\n",
       "    .dataframe thead th {\n",
       "        text-align: right;\n",
       "    }\n",
       "</style>\n",
       "<table border=\"1\" class=\"dataframe\">\n",
       "  <thead>\n",
       "    <tr style=\"text-align: right;\">\n",
       "      <th></th>\n",
       "      <th>last_price</th>\n",
       "      <th>floor</th>\n",
       "      <th>open_plan</th>\n",
       "      <th>rooms</th>\n",
       "      <th>studio</th>\n",
       "      <th>area</th>\n",
       "      <th>kitchen_area</th>\n",
       "      <th>living_area</th>\n",
       "      <th>renovation</th>\n",
       "      <th>building_id</th>\n",
       "      <th>last_price_log</th>\n",
       "    </tr>\n",
       "  </thead>\n",
       "  <tbody>\n",
       "    <tr>\n",
       "      <th>count</th>\n",
       "      <td>155392.000000</td>\n",
       "      <td>155392.000000</td>\n",
       "      <td>155392.000000</td>\n",
       "      <td>155392.000000</td>\n",
       "      <td>155392.000000</td>\n",
       "      <td>155392.000000</td>\n",
       "      <td>118364.000000</td>\n",
       "      <td>123015.000000</td>\n",
       "      <td>155392.000000</td>\n",
       "      <td>1.553920e+05</td>\n",
       "      <td>155392.000000</td>\n",
       "    </tr>\n",
       "    <tr>\n",
       "      <th>mean</th>\n",
       "      <td>31889.961349</td>\n",
       "      <td>6.698498</td>\n",
       "      <td>0.000051</td>\n",
       "      <td>1.599297</td>\n",
       "      <td>0.063768</td>\n",
       "      <td>53.358246</td>\n",
       "      <td>11.597837</td>\n",
       "      <td>30.419019</td>\n",
       "      <td>2.442565</td>\n",
       "      <td>4.566682e+18</td>\n",
       "      <td>10.243640</td>\n",
       "    </tr>\n",
       "    <tr>\n",
       "      <th>std</th>\n",
       "      <td>20303.545282</td>\n",
       "      <td>4.978305</td>\n",
       "      <td>0.007175</td>\n",
       "      <td>0.872410</td>\n",
       "      <td>0.244340</td>\n",
       "      <td>24.097810</td>\n",
       "      <td>82.238109</td>\n",
       "      <td>17.405261</td>\n",
       "      <td>4.047309</td>\n",
       "      <td>2.696169e+18</td>\n",
       "      <td>0.460827</td>\n",
       "    </tr>\n",
       "    <tr>\n",
       "      <th>min</th>\n",
       "      <td>9990.000000</td>\n",
       "      <td>1.000000</td>\n",
       "      <td>0.000000</td>\n",
       "      <td>0.000000</td>\n",
       "      <td>0.000000</td>\n",
       "      <td>11.000000</td>\n",
       "      <td>2.000000</td>\n",
       "      <td>2.000000</td>\n",
       "      <td>0.000000</td>\n",
       "      <td>4.585730e+14</td>\n",
       "      <td>9.209340</td>\n",
       "    </tr>\n",
       "    <tr>\n",
       "      <th>25%</th>\n",
       "      <td>20000.000000</td>\n",
       "      <td>3.000000</td>\n",
       "      <td>0.000000</td>\n",
       "      <td>1.000000</td>\n",
       "      <td>0.000000</td>\n",
       "      <td>38.000000</td>\n",
       "      <td>8.000000</td>\n",
       "      <td>18.000000</td>\n",
       "      <td>0.000000</td>\n",
       "      <td>2.153540e+18</td>\n",
       "      <td>9.903488</td>\n",
       "    </tr>\n",
       "    <tr>\n",
       "      <th>50%</th>\n",
       "      <td>25000.000000</td>\n",
       "      <td>5.000000</td>\n",
       "      <td>0.000000</td>\n",
       "      <td>1.000000</td>\n",
       "      <td>0.000000</td>\n",
       "      <td>46.000000</td>\n",
       "      <td>10.000000</td>\n",
       "      <td>27.000000</td>\n",
       "      <td>0.000000</td>\n",
       "      <td>4.697630e+18</td>\n",
       "      <td>10.126631</td>\n",
       "    </tr>\n",
       "    <tr>\n",
       "      <th>75%</th>\n",
       "      <td>35000.000000</td>\n",
       "      <td>9.000000</td>\n",
       "      <td>0.000000</td>\n",
       "      <td>2.000000</td>\n",
       "      <td>0.000000</td>\n",
       "      <td>62.000000</td>\n",
       "      <td>12.000000</td>\n",
       "      <td>37.000000</td>\n",
       "      <td>3.000000</td>\n",
       "      <td>6.829723e+18</td>\n",
       "      <td>10.463103</td>\n",
       "    </tr>\n",
       "    <tr>\n",
       "      <th>max</th>\n",
       "      <td>199000.000000</td>\n",
       "      <td>92.000000</td>\n",
       "      <td>1.000000</td>\n",
       "      <td>5.000000</td>\n",
       "      <td>1.000000</td>\n",
       "      <td>200.000000</td>\n",
       "      <td>25000.000000</td>\n",
       "      <td>2015.000000</td>\n",
       "      <td>11.000000</td>\n",
       "      <td>9.220297e+18</td>\n",
       "      <td>12.201060</td>\n",
       "    </tr>\n",
       "  </tbody>\n",
       "</table>\n",
       "</div>"
      ],
      "text/plain": [
       "          last_price          floor      open_plan          rooms         studio           area   kitchen_area    living_area     renovation   building_id  last_price_log\n",
       "count  155392.000000  155392.000000  155392.000000  155392.000000  155392.000000  155392.000000  118364.000000  123015.000000  155392.000000  1.553920e+05   155392.000000\n",
       "mean    31889.961349       6.698498       0.000051       1.599297       0.063768      53.358246      11.597837      30.419019       2.442565  4.566682e+18       10.243640\n",
       "std     20303.545282       4.978305       0.007175       0.872410       0.244340      24.097810      82.238109      17.405261       4.047309  2.696169e+18        0.460827\n",
       "min      9990.000000       1.000000       0.000000       0.000000       0.000000      11.000000       2.000000       2.000000       0.000000  4.585730e+14        9.209340\n",
       "25%     20000.000000       3.000000       0.000000       1.000000       0.000000      38.000000       8.000000      18.000000       0.000000  2.153540e+18        9.903488\n",
       "50%     25000.000000       5.000000       0.000000       1.000000       0.000000      46.000000      10.000000      27.000000       0.000000  4.697630e+18       10.126631\n",
       "75%     35000.000000       9.000000       0.000000       2.000000       0.000000      62.000000      12.000000      37.000000       3.000000  6.829723e+18       10.463103\n",
       "max    199000.000000      92.000000       1.000000       5.000000       1.000000     200.000000   25000.000000    2015.000000      11.000000  9.220297e+18       12.201060"
      ]
     },
     "execution_count": 4,
     "metadata": {},
     "output_type": "execute_result"
    }
   ],
   "source": [
    "rent_df_cleaned.describe()"
   ]
  },
  {
   "cell_type": "code",
   "execution_count": 5,
   "metadata": {
    "tags": []
   },
   "outputs": [
    {
     "name": "stdout",
     "output_type": "stream",
     "text": [
      "<class 'pandas.core.frame.DataFrame'>\n",
      "RangeIndex: 155392 entries, 0 to 155391\n",
      "Data columns (total 13 columns):\n",
      " #   Column                Non-Null Count   Dtype  \n",
      "---  ------                --------------   -----  \n",
      " 0   first_day_exposition  155392 non-null  object \n",
      " 1   last_day_exposition   155392 non-null  object \n",
      " 2   last_price            155392 non-null  float64\n",
      " 3   floor                 155392 non-null  int64  \n",
      " 4   open_plan             155392 non-null  int64  \n",
      " 5   rooms                 155392 non-null  int64  \n",
      " 6   studio                155392 non-null  int64  \n",
      " 7   area                  155392 non-null  float64\n",
      " 8   kitchen_area          118364 non-null  float64\n",
      " 9   living_area           123015 non-null  float64\n",
      " 10  renovation            155392 non-null  float64\n",
      " 11  building_id           155392 non-null  int64  \n",
      " 12  last_price_log        155392 non-null  float64\n",
      "dtypes: float64(6), int64(5), object(2)\n",
      "memory usage: 15.4+ MB\n"
     ]
    }
   ],
   "source": [
    "rent_df_cleaned.info()"
   ]
  },
  {
   "cell_type": "code",
   "execution_count": 6,
   "metadata": {
    "tags": []
   },
   "outputs": [],
   "source": [
    "rent_df_cleaned['renovation'] = rent_df_cleaned['renovation'].astype(int)"
   ]
  },
  {
   "cell_type": "code",
   "execution_count": 7,
   "metadata": {
    "tags": []
   },
   "outputs": [
    {
     "data": {
      "text/html": [
       "<div>\n",
       "<style scoped>\n",
       "    .dataframe tbody tr th:only-of-type {\n",
       "        vertical-align: middle;\n",
       "    }\n",
       "\n",
       "    .dataframe tbody tr th {\n",
       "        vertical-align: top;\n",
       "    }\n",
       "\n",
       "    .dataframe thead th {\n",
       "        text-align: right;\n",
       "    }\n",
       "</style>\n",
       "<table border=\"1\" class=\"dataframe\">\n",
       "  <thead>\n",
       "    <tr style=\"text-align: right;\">\n",
       "      <th></th>\n",
       "      <th>first_day_exposition</th>\n",
       "      <th>last_day_exposition</th>\n",
       "      <th>last_price</th>\n",
       "      <th>floor</th>\n",
       "      <th>open_plan</th>\n",
       "      <th>rooms</th>\n",
       "      <th>studio</th>\n",
       "      <th>area</th>\n",
       "      <th>kitchen_area</th>\n",
       "      <th>living_area</th>\n",
       "      <th>renovation</th>\n",
       "      <th>building_id</th>\n",
       "      <th>last_price_log</th>\n",
       "    </tr>\n",
       "  </thead>\n",
       "  <tbody>\n",
       "    <tr>\n",
       "      <th>0</th>\n",
       "      <td>2015-01-24T00:00:00+03:00</td>\n",
       "      <td>2016-01-19T00:00:00+03:00</td>\n",
       "      <td>20000.0</td>\n",
       "      <td>7</td>\n",
       "      <td>0</td>\n",
       "      <td>1</td>\n",
       "      <td>0</td>\n",
       "      <td>28.0</td>\n",
       "      <td>8.0</td>\n",
       "      <td>20.0</td>\n",
       "      <td>3</td>\n",
       "      <td>6719200042030752141</td>\n",
       "      <td>9.903488</td>\n",
       "    </tr>\n",
       "    <tr>\n",
       "      <th>1</th>\n",
       "      <td>2015-11-17T00:00:00+03:00</td>\n",
       "      <td>2016-03-04T00:00:00+03:00</td>\n",
       "      <td>24000.0</td>\n",
       "      <td>4</td>\n",
       "      <td>0</td>\n",
       "      <td>2</td>\n",
       "      <td>0</td>\n",
       "      <td>59.0</td>\n",
       "      <td>10.0</td>\n",
       "      <td>35.0</td>\n",
       "      <td>3</td>\n",
       "      <td>6719200042030752141</td>\n",
       "      <td>10.085809</td>\n",
       "    </tr>\n",
       "    <tr>\n",
       "      <th>2</th>\n",
       "      <td>2015-11-17T00:00:00+03:00</td>\n",
       "      <td>2016-04-24T00:00:00+03:00</td>\n",
       "      <td>18000.0</td>\n",
       "      <td>6</td>\n",
       "      <td>0</td>\n",
       "      <td>1</td>\n",
       "      <td>0</td>\n",
       "      <td>36.0</td>\n",
       "      <td>9.0</td>\n",
       "      <td>17.0</td>\n",
       "      <td>3</td>\n",
       "      <td>6719200042030752141</td>\n",
       "      <td>9.798127</td>\n",
       "    </tr>\n",
       "    <tr>\n",
       "      <th>3</th>\n",
       "      <td>2016-02-04T00:00:00+03:00</td>\n",
       "      <td>2016-02-28T00:00:00+03:00</td>\n",
       "      <td>18000.0</td>\n",
       "      <td>8</td>\n",
       "      <td>0</td>\n",
       "      <td>1</td>\n",
       "      <td>0</td>\n",
       "      <td>39.0</td>\n",
       "      <td>10.0</td>\n",
       "      <td>18.0</td>\n",
       "      <td>0</td>\n",
       "      <td>6719200042030752141</td>\n",
       "      <td>9.798127</td>\n",
       "    </tr>\n",
       "    <tr>\n",
       "      <th>4</th>\n",
       "      <td>2016-02-28T00:00:00+03:00</td>\n",
       "      <td>2016-04-02T00:00:00+03:00</td>\n",
       "      <td>19000.0</td>\n",
       "      <td>3</td>\n",
       "      <td>0</td>\n",
       "      <td>1</td>\n",
       "      <td>0</td>\n",
       "      <td>36.0</td>\n",
       "      <td>8.0</td>\n",
       "      <td>18.0</td>\n",
       "      <td>11</td>\n",
       "      <td>6719200042030752141</td>\n",
       "      <td>9.852194</td>\n",
       "    </tr>\n",
       "  </tbody>\n",
       "</table>\n",
       "</div>"
      ],
      "text/plain": [
       "        first_day_exposition        last_day_exposition  last_price  floor  open_plan  rooms  studio  area  kitchen_area  living_area  renovation          building_id  last_price_log\n",
       "0  2015-01-24T00:00:00+03:00  2016-01-19T00:00:00+03:00     20000.0      7          0      1       0  28.0           8.0         20.0           3  6719200042030752141        9.903488\n",
       "1  2015-11-17T00:00:00+03:00  2016-03-04T00:00:00+03:00     24000.0      4          0      2       0  59.0          10.0         35.0           3  6719200042030752141       10.085809\n",
       "2  2015-11-17T00:00:00+03:00  2016-04-24T00:00:00+03:00     18000.0      6          0      1       0  36.0           9.0         17.0           3  6719200042030752141        9.798127\n",
       "3  2016-02-04T00:00:00+03:00  2016-02-28T00:00:00+03:00     18000.0      8          0      1       0  39.0          10.0         18.0           0  6719200042030752141        9.798127\n",
       "4  2016-02-28T00:00:00+03:00  2016-04-02T00:00:00+03:00     19000.0      3          0      1       0  36.0           8.0         18.0          11  6719200042030752141        9.852194"
      ]
     },
     "execution_count": 7,
     "metadata": {},
     "output_type": "execute_result"
    }
   ],
   "source": [
    "rent_df_cleaned.head()"
   ]
  },
  {
   "cell_type": "code",
   "execution_count": 8,
   "metadata": {
    "tags": []
   },
   "outputs": [],
   "source": [
    "rent_df_cleaned = rent_df_cleaned.drop(['first_day_exposition', 'last_day_exposition', 'floor', 'studio' ,'kitchen_area', 'living_area','building_id'], axis=1)"
   ]
  },
  {
   "cell_type": "code",
   "execution_count": 9,
   "metadata": {
    "tags": []
   },
   "outputs": [
    {
     "data": {
      "text/html": [
       "<div>\n",
       "<style scoped>\n",
       "    .dataframe tbody tr th:only-of-type {\n",
       "        vertical-align: middle;\n",
       "    }\n",
       "\n",
       "    .dataframe tbody tr th {\n",
       "        vertical-align: top;\n",
       "    }\n",
       "\n",
       "    .dataframe thead th {\n",
       "        text-align: right;\n",
       "    }\n",
       "</style>\n",
       "<table border=\"1\" class=\"dataframe\">\n",
       "  <thead>\n",
       "    <tr style=\"text-align: right;\">\n",
       "      <th></th>\n",
       "      <th>last_price</th>\n",
       "      <th>open_plan</th>\n",
       "      <th>rooms</th>\n",
       "      <th>area</th>\n",
       "      <th>renovation</th>\n",
       "      <th>last_price_log</th>\n",
       "    </tr>\n",
       "  </thead>\n",
       "  <tbody>\n",
       "    <tr>\n",
       "      <th>0</th>\n",
       "      <td>20000.0</td>\n",
       "      <td>0</td>\n",
       "      <td>1</td>\n",
       "      <td>28.0</td>\n",
       "      <td>3</td>\n",
       "      <td>9.903488</td>\n",
       "    </tr>\n",
       "    <tr>\n",
       "      <th>1</th>\n",
       "      <td>24000.0</td>\n",
       "      <td>0</td>\n",
       "      <td>2</td>\n",
       "      <td>59.0</td>\n",
       "      <td>3</td>\n",
       "      <td>10.085809</td>\n",
       "    </tr>\n",
       "    <tr>\n",
       "      <th>2</th>\n",
       "      <td>18000.0</td>\n",
       "      <td>0</td>\n",
       "      <td>1</td>\n",
       "      <td>36.0</td>\n",
       "      <td>3</td>\n",
       "      <td>9.798127</td>\n",
       "    </tr>\n",
       "    <tr>\n",
       "      <th>3</th>\n",
       "      <td>18000.0</td>\n",
       "      <td>0</td>\n",
       "      <td>1</td>\n",
       "      <td>39.0</td>\n",
       "      <td>0</td>\n",
       "      <td>9.798127</td>\n",
       "    </tr>\n",
       "    <tr>\n",
       "      <th>4</th>\n",
       "      <td>19000.0</td>\n",
       "      <td>0</td>\n",
       "      <td>1</td>\n",
       "      <td>36.0</td>\n",
       "      <td>11</td>\n",
       "      <td>9.852194</td>\n",
       "    </tr>\n",
       "  </tbody>\n",
       "</table>\n",
       "</div>"
      ],
      "text/plain": [
       "   last_price  open_plan  rooms  area  renovation  last_price_log\n",
       "0     20000.0          0      1  28.0           3        9.903488\n",
       "1     24000.0          0      2  59.0           3       10.085809\n",
       "2     18000.0          0      1  36.0           3        9.798127\n",
       "3     18000.0          0      1  39.0           0        9.798127\n",
       "4     19000.0          0      1  36.0          11        9.852194"
      ]
     },
     "execution_count": 9,
     "metadata": {},
     "output_type": "execute_result"
    }
   ],
   "source": [
    "rent_df_cleaned.head()"
   ]
  },
  {
   "cell_type": "code",
   "execution_count": 12,
   "metadata": {
    "tags": []
   },
   "outputs": [],
   "source": [
    "x = rent_df_cleaned.drop(['last_price', 'last_price_log'], axis=1)\n",
    "y = rent_df_cleaned['last_price']"
   ]
  },
  {
   "cell_type": "code",
   "execution_count": 13,
   "metadata": {
    "tags": []
   },
   "outputs": [],
   "source": [
    "from sklearn.preprocessing import StandardScaler"
   ]
  },
  {
   "cell_type": "code",
   "execution_count": 15,
   "metadata": {
    "tags": []
   },
   "outputs": [],
   "source": [
    "from sklearn.model_selection import train_test_split\n",
    "\n",
    "x_train, x_val, y_train, y_val = train_test_split(x, y, test_size=0.2, random_state=42)"
   ]
  },
  {
   "cell_type": "code",
   "execution_count": 16,
   "metadata": {
    "tags": []
   },
   "outputs": [
    {
     "data": {
      "text/plain": [
       "((155392, 4), (155392,))"
      ]
     },
     "execution_count": 16,
     "metadata": {},
     "output_type": "execute_result"
    }
   ],
   "source": [
    "x.shape , y.shape"
   ]
  },
  {
   "cell_type": "code",
   "execution_count": 17,
   "metadata": {
    "tags": []
   },
   "outputs": [],
   "source": [
    "y_train= y_train.values.reshape(-1,1)\n",
    "y_val= y_val.values.reshape(-1,1)"
   ]
  },
  {
   "cell_type": "code",
   "execution_count": 18,
   "metadata": {
    "tags": []
   },
   "outputs": [],
   "source": [
    "sc_x = StandardScaler()\n",
    "sc_y = StandardScaler()\n",
    "\n",
    "x_train = sc_x.fit_transform(x_train)\n",
    "x_val = sc_x.fit_transform(x_val)\n",
    "y_train = sc_y.fit_transform(y_train)\n",
    "y_val = sc_y.fit_transform(y_val)"
   ]
  },
  {
   "cell_type": "code",
   "execution_count": 19,
   "metadata": {
    "tags": []
   },
   "outputs": [
    {
     "data": {
      "text/plain": [
       "((124313, 4), (124313, 1))"
      ]
     },
     "execution_count": 19,
     "metadata": {},
     "output_type": "execute_result"
    }
   ],
   "source": [
    "x_train.shape, y_train.shape"
   ]
  },
  {
   "cell_type": "code",
   "execution_count": 20,
   "metadata": {
    "tags": []
   },
   "outputs": [],
   "source": [
    "y_train = y_train.ravel()\n",
    "y_val = y_val.ravel()"
   ]
  },
  {
   "cell_type": "markdown",
   "metadata": {},
   "source": [
    "**Models creation**"
   ]
  },
  {
   "cell_type": "code",
   "execution_count": 21,
   "metadata": {
    "tags": []
   },
   "outputs": [],
   "source": [
    "from sklearn.tree import DecisionTreeRegressor\n",
    "from sklearn.ensemble import RandomForestRegressor\n",
    "from sklearn.ensemble import GradientBoostingRegressor\n",
    "from sklearn.model_selection import GridSearchCV, train_test_split\n",
    "from sklearn import metrics\n",
    "import numpy as np"
   ]
  },
  {
   "cell_type": "markdown",
   "metadata": {},
   "source": [
    "Decision Tree model"
   ]
  },
  {
   "cell_type": "code",
   "execution_count": 22,
   "metadata": {
    "tags": []
   },
   "outputs": [
    {
     "name": "stdout",
     "output_type": "stream",
     "text": [
      "MAE: 0.3592829865304456\n",
      "MSE: 0.3494678645398351\n",
      "RMSE: 0.591158070688234\n"
     ]
    }
   ],
   "source": [
    "dt = DecisionTreeRegressor(random_state=42, max_depth=10, min_samples_leaf=20, max_features=22)\n",
    "dt.fit(x_train, y_train)\n",
    "\n",
    "predict_dt = dt.predict(x_val)\n",
    "\n",
    "print('MAE:', metrics.mean_absolute_error(y_val, predict_dt))\n",
    "print('MSE:', metrics.mean_squared_error(y_val, predict_dt))\n",
    "print('RMSE:', np.sqrt(metrics.mean_squared_error(y_val, predict_dt)))"
   ]
  },
  {
   "cell_type": "markdown",
   "metadata": {},
   "source": [
    "Random forest"
   ]
  },
  {
   "cell_type": "code",
   "execution_count": 23,
   "metadata": {
    "tags": []
   },
   "outputs": [
    {
     "name": "stdout",
     "output_type": "stream",
     "text": [
      "MAE: 0.35975153450258196\n",
      "MSE: 0.34820278374307556\n",
      "RMSE: 0.5900870984380827\n"
     ]
    }
   ],
   "source": [
    "rf = RandomForestRegressor(random_state=42, n_estimators=100, max_depth = 20, min_samples_split = 4, min_samples_leaf =8)\n",
    "\n",
    "rf.fit(x_train, y_train)\n",
    "\n",
    "predict_rf = rf.predict(x_val)\n",
    "\n",
    "print('MAE:', metrics.mean_absolute_error(y_val, predict_rf))\n",
    "print('MSE:', metrics.mean_squared_error(y_val, predict_rf))\n",
    "print('RMSE:', np.sqrt(metrics.mean_squared_error(y_val, predict_rf)))"
   ]
  },
  {
   "cell_type": "markdown",
   "metadata": {},
   "source": [
    "Gradient boosting"
   ]
  },
  {
   "cell_type": "code",
   "execution_count": 24,
   "metadata": {
    "tags": []
   },
   "outputs": [
    {
     "name": "stdout",
     "output_type": "stream",
     "text": [
      "MAE: 0.35952524012846615\n",
      "MSE: 0.34581558655370054\n",
      "RMSE: 0.5880608697691937\n"
     ]
    }
   ],
   "source": [
    "gb = GradientBoostingRegressor(random_state=42, n_estimators=100, max_depth = 3, min_samples_split = 2, min_samples_leaf =1)\n",
    "\n",
    "gb.fit(x_train, y_train)\n",
    "\n",
    "predict_gb = gb.predict(x_val)\n",
    "\n",
    "print('MAE:', metrics.mean_absolute_error(y_val, predict_gb))\n",
    "print('MSE:', metrics.mean_squared_error(y_val, predict_gb))\n",
    "print('RMSE:', np.sqrt(metrics.mean_squared_error(y_val, predict_gb)))"
   ]
  },
  {
   "cell_type": "code",
   "execution_count": 25,
   "metadata": {},
   "outputs": [
    {
     "data": {
      "text/plain": [
       "['model1.pkl']"
      ]
     },
     "execution_count": 25,
     "metadata": {},
     "output_type": "execute_result"
    }
   ],
   "source": [
    "import joblib\n",
    "\n",
    "model_file = 'model1.pkl'\n",
    "scaler_x = 'scaler_x1.pkl'\n",
    "scaler_y = 'scaler_y1.pkl'\n",
    "joblib.dump(sc_x, scaler_x)\n",
    "joblib.dump(sc_y, scaler_y)\n",
    "joblib.dump(gb, model_file)"
   ]
  },
  {
   "cell_type": "code",
   "execution_count": null,
   "metadata": {},
   "outputs": [],
   "source": []
  }
 ],
 "metadata": {
  "kernelspec": {
   "display_name": "Python 3 (ipykernel)",
   "language": "python",
   "name": "python3"
  },
  "language_info": {
   "codemirror_mode": {
    "name": "ipython",
    "version": 3
   },
   "file_extension": ".py",
   "mimetype": "text/x-python",
   "name": "python",
   "nbconvert_exporter": "python",
   "pygments_lexer": "ipython3",
   "version": "3.10.8"
  }
 },
 "nbformat": 4,
 "nbformat_minor": 4
}
